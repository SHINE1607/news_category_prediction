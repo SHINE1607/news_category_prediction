{
 "cells": [
  {
   "cell_type": "code",
   "execution_count": 1,
   "metadata": {},
   "outputs": [],
   "source": [
    "from tensorflow.keras.preprocessing.text import one_hot"
   ]
  },
  {
   "cell_type": "code",
   "execution_count": 88,
   "metadata": {},
   "outputs": [],
   "source": [
    "import numpy as np\n",
    "import pandas as pd \n",
    "import matplotlib.pyplot as plt \n",
    "import seaborn as sns"
   ]
  },
  {
   "cell_type": "markdown",
   "metadata": {},
   "source": [
    "# reading the train"
   ]
  },
  {
   "cell_type": "code",
   "execution_count": 367,
   "metadata": {},
   "outputs": [],
   "source": [
    "data = pd.read_excel(\"./dataset/Data_Train.xlsx\")\n",
    "df = data.copy()"
   ]
  },
  {
   "cell_type": "markdown",
   "metadata": {},
   "source": [
    "# reading the test data"
   ]
  },
  {
   "cell_type": "code",
   "execution_count": 348,
   "metadata": {},
   "outputs": [],
   "source": [
    "df_test = pd.read_excel(\"./dataset/Data_Test.xlsx\")"
   ]
  },
  {
   "cell_type": "code",
   "execution_count": 368,
   "metadata": {},
   "outputs": [],
   "source": [
    "df[[\"story\", \"section\"]] = data[[\"STORY\", \"SECTION\"]]\n",
    "df.drop([\"STORY\", \"SECTION\"], inplace = True, axis = 1)"
   ]
  },
  {
   "cell_type": "code",
   "execution_count": 369,
   "metadata": {},
   "outputs": [
    {
     "data": {
      "text/html": [
       "<div>\n",
       "<style scoped>\n",
       "    .dataframe tbody tr th:only-of-type {\n",
       "        vertical-align: middle;\n",
       "    }\n",
       "\n",
       "    .dataframe tbody tr th {\n",
       "        vertical-align: top;\n",
       "    }\n",
       "\n",
       "    .dataframe thead th {\n",
       "        text-align: right;\n",
       "    }\n",
       "</style>\n",
       "<table border=\"1\" class=\"dataframe\">\n",
       "  <thead>\n",
       "    <tr style=\"text-align: right;\">\n",
       "      <th></th>\n",
       "      <th>story</th>\n",
       "      <th>section</th>\n",
       "    </tr>\n",
       "  </thead>\n",
       "  <tbody>\n",
       "    <tr>\n",
       "      <th>0</th>\n",
       "      <td>But the most painful was the huge reversal in ...</td>\n",
       "      <td>3</td>\n",
       "    </tr>\n",
       "    <tr>\n",
       "      <th>1</th>\n",
       "      <td>How formidable is the opposition alliance amon...</td>\n",
       "      <td>0</td>\n",
       "    </tr>\n",
       "    <tr>\n",
       "      <th>2</th>\n",
       "      <td>Most Asian currencies were trading lower today...</td>\n",
       "      <td>3</td>\n",
       "    </tr>\n",
       "    <tr>\n",
       "      <th>3</th>\n",
       "      <td>If you want to answer any question, click on ‘...</td>\n",
       "      <td>1</td>\n",
       "    </tr>\n",
       "    <tr>\n",
       "      <th>4</th>\n",
       "      <td>In global markets, gold prices edged up today ...</td>\n",
       "      <td>3</td>\n",
       "    </tr>\n",
       "  </tbody>\n",
       "</table>\n",
       "</div>"
      ],
      "text/plain": [
       "                                               story  section\n",
       "0  But the most painful was the huge reversal in ...        3\n",
       "1  How formidable is the opposition alliance amon...        0\n",
       "2  Most Asian currencies were trading lower today...        3\n",
       "3  If you want to answer any question, click on ‘...        1\n",
       "4  In global markets, gold prices edged up today ...        3"
      ]
     },
     "execution_count": 369,
     "metadata": {},
     "output_type": "execute_result"
    }
   ],
   "source": [
    "df.head(5)"
   ]
  },
  {
   "cell_type": "code",
   "execution_count": 350,
   "metadata": {},
   "outputs": [],
   "source": [
    "df_test[\"story\"] = df_test[\"STORY\"]\n",
    "df_test.drop([\"STORY\"], inplace = True, axis = 1)"
   ]
  },
  {
   "cell_type": "code",
   "execution_count": 6,
   "metadata": {},
   "outputs": [
    {
     "data": {
      "text/plain": [
       "(7628, 2)"
      ]
     },
     "execution_count": 6,
     "metadata": {},
     "output_type": "execute_result"
    },
    {
     "data": {
      "image/png": "[encoded data removed]",
      "text/plain": [
       "<Figure size 432x288 with 2 Axes>"
      ]
     },
     "metadata": {
      "needs_background": "light"
     },
     "output_type": "display_data"
    }
   ],
   "source": [
    "sns.heatmap(data.isnull())\n",
    "data.shape"
   ]
  },
  {
   "cell_type": "markdown",
   "metadata": {},
   "source": [
    "# tokenizing the story faeture"
   ]
  },
  {
   "cell_type": "code",
   "execution_count": 375,
   "metadata": {},
   "outputs": [],
   "source": [
    "# stemming each story\n",
    "import nltk \n",
    "import re\n",
    "from nltk.corpus import stopwords \n",
    "from nltk.stem.porter import PorterStemmer \n",
    "from nltk.stem import WordNetLemmatizer\n",
    "\n",
    "\n",
    "ps = PorterStemmer()\n",
    "wordnet = WordNetLemmatizer()\n",
    "\n",
    "corpus = []\n",
    "story = \"\"\n",
    "def tokenize(df):\n",
    "    for i in range(len(df)):\n",
    "        story = re.sub('[^a-zA-Z]', ' ', df[\"story\"][i])\n",
    "        story = story.lower()\n",
    "        story = story.split()\n",
    "\n",
    "        story =  [wordnet.lemmatize(word) for word in story if word not in stopwords.words(\"english\")]\n",
    "        story = \" \".join(story)\n",
    "        corpus.append(story)\n",
    "    return corpus"
   ]
  },
  {
   "cell_type": "code",
   "execution_count": 376,
   "metadata": {},
   "outputs": [],
   "source": [
    "corpus_train = tokenize(df)"
   ]
  },
  {
   "cell_type": "markdown",
   "metadata": {},
   "source": [
    "#  Creating the word-embedding model"
   ]
  },
  {
   "cell_type": "code",
   "execution_count": 378,
   "metadata": {},
   "outputs": [],
   "source": [
    "from tensorflow.keras.preprocessing.text import one_hot\n",
    "\n",
    "#### vocabulary size\n",
    "voc_size = 10000\n",
    "\n",
    "#getting the onehot representation of each word in the sent\n",
    "onehot_representation= [one_hot(words, voc_size) for words in corpus_train ]\n"
   ]
  },
  {
   "cell_type": "markdown",
   "metadata": {},
   "source": [
    "# train test split"
   ]
  },
  {
   "cell_type": "code",
   "execution_count": 380,
   "metadata": {},
   "outputs": [],
   "source": [
    "from sklearn.model_selection import train_test_split\n",
    "X_train, X_test, y_train, y_test  = train_test_split(onehot_representation, df[\"section\"], test_size = 0.20, random_state = 42)\n",
    "X_train, X_test, y_train, y_test = np.array(X_train), np.array(X_test),np.array(y_train), np.array(y_test)\n"
   ]
  },
  {
   "cell_type": "markdown",
   "metadata": {},
   "source": [
    "# Creating the neural network"
   ]
  },
  {
   "cell_type": "code",
   "execution_count": 284,
   "metadata": {},
   "outputs": [],
   "source": [
    "### word embedding representation\n",
    "from tensorflow.keras.layers import Embedding \n",
    "from tensorflow import keras\n",
    "from tensorflow.keras.preprocessing.sequence import pad_sequences\n",
    "from tensorflow.keras.models import Sequential\n",
    "from tensorflow.keras.layers import *\n",
    "import tensorflow as tf \n",
    "\n",
    "# intializing storu length\n",
    "sentence_length = 600\n",
    "X_train = pad_sequences(X_train, padding = \"pre\", \n",
    "                              maxlen = sentence_length)\n",
    "X_test = pad_sequences(X_test, padding = \"pre\", \n",
    "                              maxlen = sentence_length)\n",
    "\n",
    "\n"
   ]
  },
  {
   "cell_type": "code",
   "execution_count": 287,
   "metadata": {},
   "outputs": [
    {
     "data": {
      "text/plain": [
       "(600,)"
      ]
     },
     "execution_count": 287,
     "metadata": {},
     "output_type": "execute_result"
    }
   ],
   "source": [
    "X_test[0].shape"
   ]
  },
  {
   "cell_type": "code",
   "execution_count": 288,
   "metadata": {},
   "outputs": [
    {
     "data": {
      "text/plain": [
       "600"
      ]
     },
     "execution_count": 288,
     "metadata": {},
     "output_type": "execute_result"
    }
   ],
   "source": [
    "len(embedded_docs[0])"
   ]
  },
  {
   "cell_type": "code",
   "execution_count": 289,
   "metadata": {
    "scrolled": true
   },
   "outputs": [],
   "source": [
    "\n",
    "model = tf.keras.Sequential()\n",
    "model.add(Embedding(voc_size, 20 , input_length = sentence_length))\n",
    "model.add(Flatten())\n",
    "model.add(Dense(4, activation='softmax'))\n",
    "model.compile(optimizer='sgd', loss = keras.losses.sparse_categorical_crossentropy, \n",
    "              metrics=['accuracy'])\n"
   ]
  },
  {
   "cell_type": "code",
   "execution_count": 290,
   "metadata": {},
   "outputs": [
    {
     "name": "stdout",
     "output_type": "stream",
     "text": [
      "Model: \"sequential_33\"\n",
      "_________________________________________________________________\n",
      "Layer (type)                 Output Shape              Param #   \n",
      "=================================================================\n",
      "embedding_34 (Embedding)     (None, 600, 20)           200000    \n",
      "_________________________________________________________________\n",
      "flatten_21 (Flatten)         (None, 12000)             0         \n",
      "_________________________________________________________________\n",
      "dense_26 (Dense)             (None, 4)                 48004     \n",
      "=================================================================\n",
      "Total params: 248,004\n",
      "Trainable params: 248,004\n",
      "Non-trainable params: 0\n",
      "_________________________________________________________________\n"
     ]
    }
   ],
   "source": [
    "model.summary()"
   ]
  },
  {
   "cell_type": "code",
   "execution_count": 291,
   "metadata": {
    "scrolled": true
   },
   "outputs": [
    {
     "name": "stdout",
     "output_type": "stream",
     "text": [
      "Train on 6102 samples, validate on 1526 samples\n",
      "Epoch 1/150\n",
      "6102/6102 [==============================] - 4s 635us/sample - loss: 1.3318 - accuracy: 0.3650 - val_loss: 1.3025 - val_accuracy: 0.3598\n",
      "Epoch 2/150\n",
      "6102/6102 [==============================] - 3s 527us/sample - loss: 1.2617 - accuracy: 0.4346 - val_loss: 1.2251 - val_accuracy: 0.4705\n",
      "Epoch 3/150\n",
      "6102/6102 [==============================] - 3s 531us/sample - loss: 1.2276 - accuracy: 0.4485 - val_loss: 1.2214 - val_accuracy: 0.4699\n",
      "Epoch 4/150\n",
      "6102/6102 [==============================] - 3s 525us/sample - loss: 1.2226 - accuracy: 0.4423 - val_loss: 1.2150 - val_accuracy: 0.4463\n",
      "Epoch 5/150\n",
      "6102/6102 [==============================] - 3s 524us/sample - loss: 1.2176 - accuracy: 0.4544 - val_loss: 1.2071 - val_accuracy: 0.4692\n",
      "Epoch 6/150\n",
      "6102/6102 [==============================] - 3s 544us/sample - loss: 1.2160 - accuracy: 0.4569 - val_loss: 1.2054 - val_accuracy: 0.4718\n",
      "Epoch 7/150\n",
      "6102/6102 [==============================] - 3s 536us/sample - loss: 1.2143 - accuracy: 0.4546 - val_loss: 1.2118 - val_accuracy: 0.4626\n",
      "Epoch 8/150\n",
      "6102/6102 [==============================] - 3s 561us/sample - loss: 1.2096 - accuracy: 0.4530 - val_loss: 1.2222 - val_accuracy: 0.4266\n",
      "Epoch 9/150\n",
      "6102/6102 [==============================] - 4s 594us/sample - loss: 1.2097 - accuracy: 0.4574 - val_loss: 1.1999 - val_accuracy: 0.4633\n",
      "Epoch 10/150\n",
      "6102/6102 [==============================] - 4s 607us/sample - loss: 1.2063 - accuracy: 0.4571 - val_loss: 1.1988 - val_accuracy: 0.4738\n",
      "Epoch 11/150\n",
      "6102/6102 [==============================] - 3s 529us/sample - loss: 1.2043 - accuracy: 0.4643 - val_loss: 1.1950 - val_accuracy: 0.4803\n",
      "Epoch 12/150\n",
      "6102/6102 [==============================] - 3s 532us/sample - loss: 1.2011 - accuracy: 0.4657 - val_loss: 1.2028 - val_accuracy: 0.4587\n",
      "Epoch 13/150\n",
      "6102/6102 [==============================] - 3s 515us/sample - loss: 1.2006 - accuracy: 0.4710 - val_loss: 1.2011 - val_accuracy: 0.4581\n",
      "Epoch 14/150\n",
      "6102/6102 [==============================] - 3s 519us/sample - loss: 1.1953 - accuracy: 0.4715 - val_loss: 1.2031 - val_accuracy: 0.4758\n",
      "Epoch 15/150\n",
      "6102/6102 [==============================] - 3s 567us/sample - loss: 1.1929 - accuracy: 0.4716 - val_loss: 1.1893 - val_accuracy: 0.4895\n",
      "Epoch 16/150\n",
      "6102/6102 [==============================] - 3s 559us/sample - loss: 1.1885 - accuracy: 0.4848 - val_loss: 1.1841 - val_accuracy: 0.4803\n",
      "Epoch 17/150\n",
      "6102/6102 [==============================] - 3s 546us/sample - loss: 1.1843 - accuracy: 0.4892 - val_loss: 1.1874 - val_accuracy: 0.4830\n",
      "Epoch 18/150\n",
      "6102/6102 [==============================] - 4s 664us/sample - loss: 1.1782 - accuracy: 0.4923 - val_loss: 1.1786 - val_accuracy: 0.4908\n",
      "Epoch 19/150\n",
      "6102/6102 [==============================] - 3s 538us/sample - loss: 1.1730 - accuracy: 0.4962 - val_loss: 1.1729 - val_accuracy: 0.5203\n",
      "Epoch 20/150\n",
      "6102/6102 [==============================] - 3s 536us/sample - loss: 1.1666 - accuracy: 0.5175 - val_loss: 1.1662 - val_accuracy: 0.5039\n",
      "Epoch 21/150\n",
      "6102/6102 [==============================] - 3s 524us/sample - loss: 1.1574 - accuracy: 0.5233 - val_loss: 1.1591 - val_accuracy: 0.5472\n",
      "Epoch 22/150\n",
      "6102/6102 [==============================] - 4s 593us/sample - loss: 1.1477 - accuracy: 0.5323 - val_loss: 1.1507 - val_accuracy: 0.4954\n",
      "Epoch 23/150\n",
      "6102/6102 [==============================] - 4s 575us/sample - loss: 1.1354 - accuracy: 0.5500 - val_loss: 1.1326 - val_accuracy: 0.5708\n",
      "Epoch 24/150\n",
      "6102/6102 [==============================] - 3s 507us/sample - loss: 1.1224 - accuracy: 0.5642 - val_loss: 1.1196 - val_accuracy: 0.5786\n",
      "Epoch 25/150\n",
      "6102/6102 [==============================] - 3s 493us/sample - loss: 1.1072 - accuracy: 0.5731 - val_loss: 1.1086 - val_accuracy: 0.5891\n",
      "Epoch 26/150\n",
      "6102/6102 [==============================] - 3s 496us/sample - loss: 1.0900 - accuracy: 0.5829 - val_loss: 1.0906 - val_accuracy: 0.5760\n",
      "Epoch 27/150\n",
      "6102/6102 [==============================] - 3s 564us/sample - loss: 1.0708 - accuracy: 0.5965 - val_loss: 1.0701 - val_accuracy: 0.6114\n",
      "Epoch 28/150\n",
      "6102/6102 [==============================] - 3s 540us/sample - loss: 1.0500 - accuracy: 0.6091 - val_loss: 1.0476 - val_accuracy: 0.6114\n",
      "Epoch 29/150\n",
      "6102/6102 [==============================] - 3s 518us/sample - loss: 1.0265 - accuracy: 0.6195 - val_loss: 1.0300 - val_accuracy: 0.6153\n",
      "Epoch 30/150\n",
      "6102/6102 [==============================] - 3s 529us/sample - loss: 1.0036 - accuracy: 0.6244 - val_loss: 1.0034 - val_accuracy: 0.6245\n",
      "Epoch 31/150\n",
      "6102/6102 [==============================] - 3s 568us/sample - loss: 0.9791 - accuracy: 0.6408 - val_loss: 0.9779 - val_accuracy: 0.6376\n",
      "Epoch 32/150\n",
      "6102/6102 [==============================] - 3s 513us/sample - loss: 0.9530 - accuracy: 0.6475 - val_loss: 0.9634 - val_accuracy: 0.6298\n",
      "Epoch 33/150\n",
      "6102/6102 [==============================] - 4s 597us/sample - loss: 0.9286 - accuracy: 0.6568 - val_loss: 0.9372 - val_accuracy: 0.6632\n",
      "Epoch 34/150\n",
      "6102/6102 [==============================] - 4s 604us/sample - loss: 0.9030 - accuracy: 0.6652 - val_loss: 0.9106 - val_accuracy: 0.6520\n",
      "Epoch 35/150\n",
      "6102/6102 [==============================] - 3s 553us/sample - loss: 0.8776 - accuracy: 0.6781 - val_loss: 0.8871 - val_accuracy: 0.6684\n",
      "Epoch 36/150\n",
      "6102/6102 [==============================] - 3s 548us/sample - loss: 0.8529 - accuracy: 0.6826 - val_loss: 0.8620 - val_accuracy: 0.6796\n",
      "Epoch 37/150\n",
      "6102/6102 [==============================] - 4s 644us/sample - loss: 0.8295 - accuracy: 0.6885 - val_loss: 0.8418 - val_accuracy: 0.6946\n",
      "Epoch 38/150\n",
      "6102/6102 [==============================] - 4s 574us/sample - loss: 0.8068 - accuracy: 0.7001 - val_loss: 0.8207 - val_accuracy: 0.6841\n",
      "Epoch 39/150\n",
      "6102/6102 [==============================] - 4s 683us/sample - loss: 0.7835 - accuracy: 0.7083 - val_loss: 0.7957 - val_accuracy: 0.7005\n",
      "Epoch 40/150\n",
      "6102/6102 [==============================] - 4s 591us/sample - loss: 0.7625 - accuracy: 0.7201 - val_loss: 0.7753 - val_accuracy: 0.7202\n",
      "Epoch 41/150\n",
      "6102/6102 [==============================] - 3s 510us/sample - loss: 0.7396 - accuracy: 0.7363 - val_loss: 0.7545 - val_accuracy: 0.7221\n",
      "Epoch 42/150\n",
      "6102/6102 [==============================] - 3s 506us/sample - loss: 0.7187 - accuracy: 0.7514 - val_loss: 0.7382 - val_accuracy: 0.7267\n",
      "Epoch 43/150\n",
      "6102/6102 [==============================] - 3s 494us/sample - loss: 0.6991 - accuracy: 0.7668 - val_loss: 0.7159 - val_accuracy: 0.7464\n",
      "Epoch 44/150\n",
      "6102/6102 [==============================] - 4s 605us/sample - loss: 0.6782 - accuracy: 0.7822 - val_loss: 0.7142 - val_accuracy: 0.7444\n",
      "Epoch 45/150\n",
      "6102/6102 [==============================] - 4s 614us/sample - loss: 0.6589 - accuracy: 0.7930 - val_loss: 0.6786 - val_accuracy: 0.7870\n",
      "Epoch 46/150\n",
      "6102/6102 [==============================] - 4s 578us/sample - loss: 0.6396 - accuracy: 0.8069 - val_loss: 0.6591 - val_accuracy: 0.7962\n",
      "Epoch 47/150\n",
      "6102/6102 [==============================] - 4s 598us/sample - loss: 0.6210 - accuracy: 0.8197 - val_loss: 0.6412 - val_accuracy: 0.7969\n",
      "Epoch 48/150\n",
      "6102/6102 [==============================] - 3s 557us/sample - loss: 0.6028 - accuracy: 0.8294 - val_loss: 0.6299 - val_accuracy: 0.7824\n",
      "Epoch 49/150\n",
      "6102/6102 [==============================] - 3s 527us/sample - loss: 0.5854 - accuracy: 0.8332 - val_loss: 0.6103 - val_accuracy: 0.8198\n",
      "Epoch 50/150\n",
      "6102/6102 [==============================] - 3s 541us/sample - loss: 0.5679 - accuracy: 0.8437 - val_loss: 0.5923 - val_accuracy: 0.8172\n",
      "Epoch 51/150\n",
      "6102/6102 [==============================] - 3s 524us/sample - loss: 0.5513 - accuracy: 0.8525 - val_loss: 0.5764 - val_accuracy: 0.8329\n",
      "Epoch 52/150\n",
      "6102/6102 [==============================] - 3s 526us/sample - loss: 0.5350 - accuracy: 0.8609 - val_loss: 0.5600 - val_accuracy: 0.8375\n",
      "Epoch 53/150\n",
      "6102/6102 [==============================] - 4s 646us/sample - loss: 0.5188 - accuracy: 0.8641 - val_loss: 0.5558 - val_accuracy: 0.8388\n",
      "Epoch 54/150\n",
      "6102/6102 [==============================] - 4s 619us/sample - loss: 0.5036 - accuracy: 0.8727 - val_loss: 0.5310 - val_accuracy: 0.8558\n",
      "Epoch 55/150\n"
     ]
    },
    {
     "name": "stdout",
     "output_type": "stream",
     "text": [
      "6102/6102 [==============================] - 4s 582us/sample - loss: 0.4889 - accuracy: 0.8761 - val_loss: 0.5215 - val_accuracy: 0.8571\n",
      "Epoch 56/150\n",
      "6102/6102 [==============================] - 4s 690us/sample - loss: 0.4744 - accuracy: 0.8853 - val_loss: 0.5029 - val_accuracy: 0.8663\n",
      "Epoch 57/150\n",
      "6102/6102 [==============================] - 4s 699us/sample - loss: 0.4609 - accuracy: 0.8895 - val_loss: 0.4871 - val_accuracy: 0.8663\n",
      "Epoch 58/150\n",
      "6102/6102 [==============================] - 4s 660us/sample - loss: 0.4473 - accuracy: 0.8945 - val_loss: 0.4754 - val_accuracy: 0.8644\n",
      "Epoch 59/150\n",
      "6102/6102 [==============================] - 4s 662us/sample - loss: 0.4347 - accuracy: 0.8963 - val_loss: 0.4649 - val_accuracy: 0.8866\n",
      "Epoch 60/150\n",
      "6102/6102 [==============================] - 4s 627us/sample - loss: 0.4218 - accuracy: 0.9018 - val_loss: 0.4511 - val_accuracy: 0.8794\n",
      "Epoch 61/150\n",
      "6102/6102 [==============================] - 3s 525us/sample - loss: 0.4092 - accuracy: 0.9043 - val_loss: 0.4429 - val_accuracy: 0.8879\n",
      "Epoch 62/150\n",
      "6102/6102 [==============================] - 3s 497us/sample - loss: 0.3984 - accuracy: 0.9066 - val_loss: 0.4315 - val_accuracy: 0.8860\n",
      "Epoch 63/150\n",
      "6102/6102 [==============================] - 3s 493us/sample - loss: 0.3876 - accuracy: 0.9090 - val_loss: 0.4167 - val_accuracy: 0.8866\n",
      "Epoch 64/150\n",
      "6102/6102 [==============================] - 3s 491us/sample - loss: 0.3773 - accuracy: 0.9130 - val_loss: 0.4072 - val_accuracy: 0.8899\n",
      "Epoch 65/150\n",
      "6102/6102 [==============================] - 3s 495us/sample - loss: 0.3661 - accuracy: 0.9136 - val_loss: 0.3985 - val_accuracy: 0.9017\n",
      "Epoch 66/150\n",
      "6102/6102 [==============================] - 3s 492us/sample - loss: 0.3577 - accuracy: 0.9167 - val_loss: 0.3873 - val_accuracy: 0.8991\n",
      "Epoch 67/150\n",
      "6102/6102 [==============================] - 3s 496us/sample - loss: 0.3490 - accuracy: 0.9179 - val_loss: 0.3789 - val_accuracy: 0.8971\n",
      "Epoch 68/150\n",
      "6102/6102 [==============================] - 3s 550us/sample - loss: 0.3395 - accuracy: 0.9217 - val_loss: 0.3730 - val_accuracy: 0.9063\n",
      "Epoch 69/150\n",
      "6102/6102 [==============================] - 3s 540us/sample - loss: 0.3314 - accuracy: 0.9210 - val_loss: 0.3723 - val_accuracy: 0.9122\n",
      "Epoch 70/150\n",
      "6102/6102 [==============================] - 3s 535us/sample - loss: 0.3231 - accuracy: 0.9243 - val_loss: 0.3565 - val_accuracy: 0.9063\n",
      "Epoch 71/150\n",
      "6102/6102 [==============================] - 3s 518us/sample - loss: 0.3162 - accuracy: 0.9263 - val_loss: 0.3507 - val_accuracy: 0.9010\n",
      "Epoch 72/150\n",
      "6102/6102 [==============================] - 3s 498us/sample - loss: 0.3075 - accuracy: 0.9276 - val_loss: 0.3414 - val_accuracy: 0.9122\n",
      "Epoch 73/150\n",
      "6102/6102 [==============================] - 3s 499us/sample - loss: 0.3018 - accuracy: 0.9281 - val_loss: 0.3369 - val_accuracy: 0.9083\n",
      "Epoch 74/150\n",
      "6102/6102 [==============================] - 3s 547us/sample - loss: 0.2953 - accuracy: 0.9302 - val_loss: 0.3298 - val_accuracy: 0.9115\n",
      "Epoch 75/150\n",
      "6102/6102 [==============================] - 3s 548us/sample - loss: 0.2883 - accuracy: 0.9310 - val_loss: 0.3234 - val_accuracy: 0.9161\n",
      "Epoch 76/150\n",
      "6102/6102 [==============================] - 3s 543us/sample - loss: 0.2827 - accuracy: 0.9323 - val_loss: 0.3172 - val_accuracy: 0.9240\n",
      "Epoch 77/150\n",
      "6102/6102 [==============================] - 3s 558us/sample - loss: 0.2768 - accuracy: 0.9358 - val_loss: 0.3113 - val_accuracy: 0.9181\n",
      "Epoch 78/150\n",
      "6102/6102 [==============================] - 3s 529us/sample - loss: 0.2716 - accuracy: 0.9361 - val_loss: 0.3072 - val_accuracy: 0.9181\n",
      "Epoch 79/150\n",
      "6102/6102 [==============================] - 4s 621us/sample - loss: 0.2664 - accuracy: 0.9381 - val_loss: 0.3108 - val_accuracy: 0.9299\n",
      "Epoch 80/150\n",
      "6102/6102 [==============================] - 4s 579us/sample - loss: 0.2612 - accuracy: 0.9374 - val_loss: 0.3008 - val_accuracy: 0.9155\n",
      "Epoch 81/150\n",
      "6102/6102 [==============================] - 3s 503us/sample - loss: 0.2566 - accuracy: 0.9403 - val_loss: 0.2927 - val_accuracy: 0.9332\n",
      "Epoch 82/150\n",
      "6102/6102 [==============================] - 3s 525us/sample - loss: 0.2507 - accuracy: 0.9425 - val_loss: 0.2861 - val_accuracy: 0.9292\n",
      "Epoch 83/150\n",
      "6102/6102 [==============================] - 3s 493us/sample - loss: 0.2454 - accuracy: 0.9417 - val_loss: 0.2833 - val_accuracy: 0.9194\n",
      "Epoch 84/150\n",
      "6102/6102 [==============================] - 3s 514us/sample - loss: 0.2427 - accuracy: 0.9428 - val_loss: 0.2784 - val_accuracy: 0.9318\n",
      "Epoch 85/150\n",
      "6102/6102 [==============================] - 3s 509us/sample - loss: 0.2376 - accuracy: 0.9446 - val_loss: 0.2766 - val_accuracy: 0.9207\n",
      "Epoch 86/150\n",
      "6102/6102 [==============================] - 3s 516us/sample - loss: 0.2346 - accuracy: 0.9431 - val_loss: 0.2718 - val_accuracy: 0.9246\n",
      "Epoch 87/150\n",
      "6102/6102 [==============================] - 3s 529us/sample - loss: 0.2299 - accuracy: 0.9458 - val_loss: 0.2669 - val_accuracy: 0.9279\n",
      "Epoch 88/150\n",
      "6102/6102 [==============================] - 3s 542us/sample - loss: 0.2267 - accuracy: 0.9461 - val_loss: 0.2674 - val_accuracy: 0.9318\n",
      "Epoch 89/150\n",
      "6102/6102 [==============================] - 3s 544us/sample - loss: 0.2227 - accuracy: 0.9472 - val_loss: 0.2599 - val_accuracy: 0.9305\n",
      "Epoch 90/150\n",
      "6102/6102 [==============================] - 3s 509us/sample - loss: 0.2192 - accuracy: 0.9497 - val_loss: 0.2776 - val_accuracy: 0.9351\n",
      "Epoch 91/150\n",
      "6102/6102 [==============================] - 3s 502us/sample - loss: 0.2153 - accuracy: 0.9497 - val_loss: 0.2553 - val_accuracy: 0.9253\n",
      "Epoch 92/150\n",
      "6102/6102 [==============================] - 3s 497us/sample - loss: 0.2126 - accuracy: 0.9502 - val_loss: 0.2521 - val_accuracy: 0.9286\n",
      "Epoch 93/150\n",
      "6102/6102 [==============================] - 3s 495us/sample - loss: 0.2093 - accuracy: 0.9507 - val_loss: 0.2497 - val_accuracy: 0.9332\n",
      "Epoch 94/150\n",
      "6102/6102 [==============================] - 3s 491us/sample - loss: 0.2059 - accuracy: 0.9510 - val_loss: 0.2474 - val_accuracy: 0.9260\n",
      "Epoch 95/150\n",
      "6102/6102 [==============================] - 3s 491us/sample - loss: 0.2027 - accuracy: 0.9525 - val_loss: 0.2466 - val_accuracy: 0.9364\n",
      "Epoch 96/150\n",
      "6102/6102 [==============================] - 3s 531us/sample - loss: 0.1995 - accuracy: 0.9538 - val_loss: 0.2399 - val_accuracy: 0.9325\n",
      "Epoch 97/150\n",
      "6102/6102 [==============================] - 3s 537us/sample - loss: 0.1976 - accuracy: 0.9530 - val_loss: 0.2379 - val_accuracy: 0.9410\n",
      "Epoch 98/150\n",
      "6102/6102 [==============================] - 3s 556us/sample - loss: 0.1954 - accuracy: 0.9533 - val_loss: 0.2366 - val_accuracy: 0.9318\n",
      "Epoch 99/150\n",
      "6102/6102 [==============================] - 3s 505us/sample - loss: 0.1924 - accuracy: 0.9543 - val_loss: 0.2440 - val_accuracy: 0.9397\n",
      "Epoch 100/150\n",
      "6102/6102 [==============================] - 3s 534us/sample - loss: 0.1897 - accuracy: 0.9544 - val_loss: 0.2308 - val_accuracy: 0.9338\n",
      "Epoch 101/150\n",
      "6102/6102 [==============================] - 3s 543us/sample - loss: 0.1869 - accuracy: 0.9559 - val_loss: 0.2283 - val_accuracy: 0.9371\n",
      "Epoch 102/150\n",
      "6102/6102 [==============================] - 3s 525us/sample - loss: 0.1845 - accuracy: 0.9564 - val_loss: 0.2263 - val_accuracy: 0.9391\n",
      "Epoch 103/150\n",
      "6102/6102 [==============================] - 3s 505us/sample - loss: 0.1823 - accuracy: 0.9574 - val_loss: 0.2341 - val_accuracy: 0.9397\n",
      "Epoch 104/150\n",
      "6102/6102 [==============================] - 3s 492us/sample - loss: 0.1808 - accuracy: 0.9597 - val_loss: 0.2236 - val_accuracy: 0.9345\n",
      "Epoch 105/150\n",
      "6102/6102 [==============================] - 3s 496us/sample - loss: 0.1779 - accuracy: 0.9602 - val_loss: 0.2254 - val_accuracy: 0.9260\n",
      "Epoch 106/150\n",
      "6102/6102 [==============================] - 3s 516us/sample - loss: 0.1756 - accuracy: 0.9592 - val_loss: 0.2287 - val_accuracy: 0.9397\n",
      "Epoch 107/150\n",
      "6102/6102 [==============================] - 3s 518us/sample - loss: 0.1740 - accuracy: 0.9594 - val_loss: 0.2182 - val_accuracy: 0.9463\n",
      "Epoch 108/150\n",
      "6102/6102 [==============================] - 3s 534us/sample - loss: 0.1713 - accuracy: 0.9587 - val_loss: 0.2194 - val_accuracy: 0.9397\n",
      "Epoch 109/150\n"
     ]
    },
    {
     "name": "stdout",
     "output_type": "stream",
     "text": [
      "6102/6102 [==============================] - 3s 510us/sample - loss: 0.1688 - accuracy: 0.9590 - val_loss: 0.2181 - val_accuracy: 0.9318\n",
      "Epoch 110/150\n",
      "6102/6102 [==============================] - 3s 495us/sample - loss: 0.1686 - accuracy: 0.9590 - val_loss: 0.2133 - val_accuracy: 0.9384\n",
      "Epoch 111/150\n",
      "6102/6102 [==============================] - 3s 511us/sample - loss: 0.1656 - accuracy: 0.9603 - val_loss: 0.2162 - val_accuracy: 0.9332\n",
      "Epoch 112/150\n",
      "6102/6102 [==============================] - 3s 499us/sample - loss: 0.1637 - accuracy: 0.9623 - val_loss: 0.2097 - val_accuracy: 0.9325\n",
      "Epoch 113/150\n",
      "6102/6102 [==============================] - 3s 521us/sample - loss: 0.1616 - accuracy: 0.9635 - val_loss: 0.2090 - val_accuracy: 0.9404\n",
      "Epoch 114/150\n",
      "6102/6102 [==============================] - 3s 534us/sample - loss: 0.1602 - accuracy: 0.9636 - val_loss: 0.2060 - val_accuracy: 0.9364\n",
      "Epoch 115/150\n",
      "6102/6102 [==============================] - 3s 506us/sample - loss: 0.1584 - accuracy: 0.9638 - val_loss: 0.2123 - val_accuracy: 0.9430\n",
      "Epoch 116/150\n",
      "6102/6102 [==============================] - 3s 505us/sample - loss: 0.1567 - accuracy: 0.9636 - val_loss: 0.2037 - val_accuracy: 0.9469\n",
      "Epoch 117/150\n",
      "6102/6102 [==============================] - 3s 529us/sample - loss: 0.1548 - accuracy: 0.9654 - val_loss: 0.2068 - val_accuracy: 0.9410\n",
      "Epoch 118/150\n",
      "6102/6102 [==============================] - 3s 520us/sample - loss: 0.1532 - accuracy: 0.9653 - val_loss: 0.2055 - val_accuracy: 0.9502\n",
      "Epoch 119/150\n",
      "6102/6102 [==============================] - 3s 523us/sample - loss: 0.1518 - accuracy: 0.9662 - val_loss: 0.2041 - val_accuracy: 0.9423\n",
      "Epoch 120/150\n",
      "6102/6102 [==============================] - 3s 515us/sample - loss: 0.1504 - accuracy: 0.9672 - val_loss: 0.2001 - val_accuracy: 0.9364\n",
      "Epoch 121/150\n",
      "6102/6102 [==============================] - 3s 510us/sample - loss: 0.1479 - accuracy: 0.9667 - val_loss: 0.2050 - val_accuracy: 0.9371\n",
      "Epoch 122/150\n",
      "6102/6102 [==============================] - 5s 832us/sample - loss: 0.1475 - accuracy: 0.9664 - val_loss: 0.1953 - val_accuracy: 0.9495\n",
      "Epoch 123/150\n",
      "6102/6102 [==============================] - 3s 540us/sample - loss: 0.1459 - accuracy: 0.9654 - val_loss: 0.1946 - val_accuracy: 0.9482\n",
      "Epoch 124/150\n",
      "6102/6102 [==============================] - 3s 518us/sample - loss: 0.1437 - accuracy: 0.9671 - val_loss: 0.1929 - val_accuracy: 0.9450\n",
      "Epoch 125/150\n",
      "6102/6102 [==============================] - 4s 608us/sample - loss: 0.1423 - accuracy: 0.9682 - val_loss: 0.1950 - val_accuracy: 0.9495\n",
      "Epoch 126/150\n",
      "6102/6102 [==============================] - 3s 534us/sample - loss: 0.1413 - accuracy: 0.9689 - val_loss: 0.1902 - val_accuracy: 0.9476\n",
      "Epoch 127/150\n",
      "6102/6102 [==============================] - 3s 561us/sample - loss: 0.1396 - accuracy: 0.9687 - val_loss: 0.1930 - val_accuracy: 0.9364\n",
      "Epoch 128/150\n",
      "6102/6102 [==============================] - 4s 727us/sample - loss: 0.1379 - accuracy: 0.9697 - val_loss: 0.1891 - val_accuracy: 0.9417\n",
      "Epoch 129/150\n",
      "6102/6102 [==============================] - 3s 564us/sample - loss: 0.1362 - accuracy: 0.9697 - val_loss: 0.1885 - val_accuracy: 0.9423\n",
      "Epoch 130/150\n",
      "6102/6102 [==============================] - 3s 536us/sample - loss: 0.1358 - accuracy: 0.9697 - val_loss: 0.1892 - val_accuracy: 0.9410\n",
      "Epoch 131/150\n",
      "6102/6102 [==============================] - 3s 490us/sample - loss: 0.1345 - accuracy: 0.9708 - val_loss: 0.1869 - val_accuracy: 0.9430\n",
      "Epoch 132/150\n",
      "6102/6102 [==============================] - 3s 507us/sample - loss: 0.1330 - accuracy: 0.9713 - val_loss: 0.1877 - val_accuracy: 0.9522\n",
      "Epoch 133/150\n",
      "6102/6102 [==============================] - 3s 502us/sample - loss: 0.1319 - accuracy: 0.9713 - val_loss: 0.1835 - val_accuracy: 0.9522\n",
      "Epoch 134/150\n",
      "6102/6102 [==============================] - 3s 526us/sample - loss: 0.1312 - accuracy: 0.9707 - val_loss: 0.1831 - val_accuracy: 0.9469\n",
      "Epoch 135/150\n",
      "6102/6102 [==============================] - 3s 552us/sample - loss: 0.1297 - accuracy: 0.9730 - val_loss: 0.1842 - val_accuracy: 0.9404\n",
      "Epoch 136/150\n",
      "6102/6102 [==============================] - 3s 553us/sample - loss: 0.1275 - accuracy: 0.9723 - val_loss: 0.1858 - val_accuracy: 0.9450\n",
      "Epoch 137/150\n",
      "6102/6102 [==============================] - 3s 551us/sample - loss: 0.1280 - accuracy: 0.9716 - val_loss: 0.1799 - val_accuracy: 0.9482\n",
      "Epoch 138/150\n",
      "6102/6102 [==============================] - 4s 576us/sample - loss: 0.1263 - accuracy: 0.9720 - val_loss: 0.1823 - val_accuracy: 0.9489\n",
      "Epoch 139/150\n",
      "6102/6102 [==============================] - 3s 545us/sample - loss: 0.1248 - accuracy: 0.9731 - val_loss: 0.1792 - val_accuracy: 0.9489\n",
      "Epoch 140/150\n",
      "6102/6102 [==============================] - 3s 533us/sample - loss: 0.1242 - accuracy: 0.9728 - val_loss: 0.1774 - val_accuracy: 0.9482\n",
      "Epoch 141/150\n",
      "6102/6102 [==============================] - 3s 501us/sample - loss: 0.1221 - accuracy: 0.9739 - val_loss: 0.1778 - val_accuracy: 0.9515\n",
      "Epoch 142/150\n",
      "6102/6102 [==============================] - 3s 516us/sample - loss: 0.1215 - accuracy: 0.9739 - val_loss: 0.1753 - val_accuracy: 0.9495\n",
      "Epoch 143/150\n",
      "6102/6102 [==============================] - 4s 639us/sample - loss: 0.1210 - accuracy: 0.9748 - val_loss: 0.1751 - val_accuracy: 0.9456\n",
      "Epoch 144/150\n",
      "6102/6102 [==============================] - 4s 609us/sample - loss: 0.1194 - accuracy: 0.9733 - val_loss: 0.1755 - val_accuracy: 0.9528\n",
      "Epoch 145/150\n",
      "6102/6102 [==============================] - 3s 557us/sample - loss: 0.1183 - accuracy: 0.9754 - val_loss: 0.1755 - val_accuracy: 0.9509\n",
      "Epoch 146/150\n",
      "6102/6102 [==============================] - 3s 549us/sample - loss: 0.1174 - accuracy: 0.9746 - val_loss: 0.1748 - val_accuracy: 0.9515\n",
      "Epoch 147/150\n",
      "6102/6102 [==============================] - 3s 565us/sample - loss: 0.1170 - accuracy: 0.9741 - val_loss: 0.1756 - val_accuracy: 0.9482\n",
      "Epoch 148/150\n",
      "6102/6102 [==============================] - 3s 556us/sample - loss: 0.1154 - accuracy: 0.9748 - val_loss: 0.1740 - val_accuracy: 0.9469\n",
      "Epoch 149/150\n",
      "6102/6102 [==============================] - 3s 544us/sample - loss: 0.1144 - accuracy: 0.9744 - val_loss: 0.1740 - val_accuracy: 0.9495\n",
      "Epoch 150/150\n",
      "6102/6102 [==============================] - 3s 542us/sample - loss: 0.1139 - accuracy: 0.9749 - val_loss: 0.1761 - val_accuracy: 0.9528\n"
     ]
    },
    {
     "data": {
      "text/plain": [
       "<tensorflow.python.keras.callbacks.History at 0x7fc0cd714550>"
      ]
     },
     "execution_count": 291,
     "metadata": {},
     "output_type": "execute_result"
    }
   ],
   "source": [
    "## fitting the model\n",
    "model.fit(X_train, y_train, epochs= 150, validation_data=(X_test, y_test), verbose=1)"
   ]
  },
  {
   "cell_type": "markdown",
   "metadata": {},
   "source": [
    "# test data prediction"
   ]
  },
  {
   "cell_type": "code",
   "execution_count": 353,
   "metadata": {},
   "outputs": [],
   "source": [
    "# df_test[\"story\"] = df_test[\"STORY\"]\n",
    "# df_test.drop([\"STORY\"], inplace = True, axis = 1)\n",
    "\n",
    "corpus_test = tokenize(df_test)\n",
    "onehot_representation_test = [one_hot(words, voc_size) for words in corpus_test]\n",
    "test = np.array(onehot_representation_test)\n",
    "#pad sequencing each sentence\n",
    "test = pad_sequences(test, padding = \"pre\", \n",
    "                              maxlen = sentence_length)\n",
    "\n"
   ]
  },
  {
   "cell_type": "code",
   "execution_count": 356,
   "metadata": {},
   "outputs": [],
   "source": [
    "y_final_pred = model.predict_classes(test)"
   ]
  },
  {
   "cell_type": "code",
   "execution_count": 357,
   "metadata": {},
   "outputs": [],
   "source": [
    "submission = pd.DataFrame({\"SECTION\" : y_final_pred})"
   ]
  },
  {
   "cell_type": "code",
   "execution_count": 361,
   "metadata": {},
   "outputs": [],
   "source": [
    "### saving the submission file as excel\n",
    "submission.to_excel(\"submission.xlsx\")"
   ]
  },
  {
   "cell_type": "markdown",
   "metadata": {},
   "source": [
    "# saving the model"
   ]
  },
  {
   "cell_type": "code",
   "execution_count": 362,
   "metadata": {},
   "outputs": [
    {
     "name": "stdout",
     "output_type": "stream",
     "text": [
      "WARNING:tensorflow:From /opt/anaconda3/envs/myenv/lib/python3.7/site-packages/tensorflow_core/python/ops/resource_variable_ops.py:1781: calling BaseResourceVariable.__init__ (from tensorflow.python.ops.resource_variable_ops) with constraint is deprecated and will be removed in a future version.\n",
      "Instructions for updating:\n",
      "If using Keras pass *_constraint arguments to layers.\n",
      "INFO:tensorflow:Assets written to: model/assets\n"
     ]
    }
   ],
   "source": [
    "model.save('model')\n",
    "model.save(\"model/model.h5\")"
   ]
  },
  {
   "cell_type": "code",
   "execution_count": 381,
   "metadata": {},
   "outputs": [
    {
     "data": {
      "text/plain": [
       "(7628, 2)"
      ]
     },
     "execution_count": 381,
     "metadata": {},
     "output_type": "execute_result"
    }
   ],
   "source": [
    "df.shape"
   ]
  },
  {
   "cell_type": "code",
   "execution_count": null,
   "metadata": {},
   "outputs": [],
   "source": []
  }
 ],
 "metadata": {
  "kernelspec": {
   "display_name": "Python 3.7.7 64-bit ('myenv': conda)",
   "language": "python",
   "name": "python37764bitmyenvconda823dfb8e79a54b2babc4116ecd4d023d"
  },
  "language_info": {
   "codemirror_mode": {
    "name": "ipython",
    "version": 3
   },
   "file_extension": ".py",
   "mimetype": "text/x-python",
   "name": "python",
   "nbconvert_exporter": "python",
   "pygments_lexer": "ipython3",
   "version": "3.7.7"
  }
 },
 "nbformat": 4,
 "nbformat_minor": 4
}
